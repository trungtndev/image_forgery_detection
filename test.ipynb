{
 "cells": [
  {
   "cell_type": "code",
   "id": "initial_id",
   "metadata": {
    "collapsed": true,
    "ExecuteTime": {
     "end_time": "2024-10-17T03:00:25.690488Z",
     "start_time": "2024-10-17T03:00:17.541023Z"
    }
   },
   "source": [
    "\n",
    "from src.lit_model import LitModel\n",
    "from pytorch_lightning import Trainer"
   ],
   "outputs": [
    {
     "name": "stderr",
     "output_type": "stream",
     "text": [
      "C:\\Users\\trung\\miniconda3\\envs\\image_forgery\\lib\\site-packages\\tqdm\\auto.py:21: TqdmWarning: IProgress not found. Please update jupyter and ipywidgets. See https://ipywidgets.readthedocs.io/en/stable/user_install.html\n",
      "  from .autonotebook import tqdm as notebook_tqdm\n"
     ]
    }
   ],
   "execution_count": 1
  },
  {
   "metadata": {
    "ExecuteTime": {
     "end_time": "2024-10-17T03:11:07.855765Z",
     "start_time": "2024-10-17T03:11:06.518557Z"
    }
   },
   "cell_type": "code",
   "source": "model = LitModel.load_from_checkpoint(\"checkpoint/epoch=5-step=3786.ckpt\")",
   "id": "c4b322a4dfe55cea",
   "outputs": [
    {
     "name": "stderr",
     "output_type": "stream",
     "text": [
      "C:\\Users\\trung\\miniconda3\\envs\\image_forgery\\lib\\site-packages\\lightning_fabric\\utilities\\cloud_io.py:57: You are using `torch.load` with `weights_only=False` (the current default value), which uses the default pickle module implicitly. It is possible to construct malicious pickle data which will execute arbitrary code during unpickling (See https://github.com/pytorch/pytorch/blob/main/SECURITY.md#untrusted-models for more details). In a future release, the default value for `weights_only` will be flipped to `True`. This limits the functions that could be executed during unpickling. Arbitrary objects will no longer be allowed to be loaded via this mode unless they are explicitly allowlisted by the user via `torch.serialization.add_safe_globals`. We recommend you start setting `weights_only=True` for any use case where you don't have full control of the loaded file. Please open an issue on GitHub for any issues related to this experimental feature.\n"
     ]
    }
   ],
   "execution_count": 18
  },
  {
   "metadata": {
    "ExecuteTime": {
     "end_time": "2024-10-17T03:11:14.103400Z",
     "start_time": "2024-10-17T03:11:14.087694Z"
    }
   },
   "cell_type": "code",
   "source": [
    "for p in model.model.spatial.swinv1.layers[3].parameters():\n",
    "    p.requires_grad = True"
   ],
   "id": "88857cb7a0fd4956",
   "outputs": [],
   "execution_count": 20
  },
  {
   "metadata": {
    "ExecuteTime": {
     "end_time": "2024-10-17T03:11:15.081932Z",
     "start_time": "2024-10-17T03:11:15.066310Z"
    }
   },
   "cell_type": "code",
   "source": "print(sum(p.numel() for p in model.model.spatial.swinv1.layers[3].parameters() if p.requires_grad))\n",
   "id": "d329dc1e1eb3f93d",
   "outputs": [
    {
     "name": "stdout",
     "output_type": "stream",
     "text": [
      "15366576\n"
     ]
    }
   ],
   "execution_count": 21
  }
 ],
 "metadata": {
  "kernelspec": {
   "display_name": "Python 3",
   "language": "python",
   "name": "python3"
  },
  "language_info": {
   "codemirror_mode": {
    "name": "ipython",
    "version": 2
   },
   "file_extension": ".py",
   "mimetype": "text/x-python",
   "name": "python",
   "nbconvert_exporter": "python",
   "pygments_lexer": "ipython2",
   "version": "2.7.6"
  }
 },
 "nbformat": 4,
 "nbformat_minor": 5
}
