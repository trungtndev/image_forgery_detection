{
 "cells": [
  {
   "cell_type": "code",
   "id": "initial_id",
   "metadata": {
    "collapsed": true,
    "ExecuteTime": {
     "end_time": "2024-10-12T10:18:48.680203Z",
     "start_time": "2024-10-12T10:18:43.017749Z"
    }
   },
   "source": [
    "import os\n",
    "from PIL import Image\n",
    "import torchvision.transforms as transforms\n",
    "import torch\n",
    "import numpy as np\n",
    "from torch_dct import dct_2d\n",
    "from PIL import Image\n",
    "import matplotlib.pyplot as plt\n",
    "\n",
    "import matplotlib.image as mpimg\n",
    "\n",
    "from src.datamodule.datamodule import ImageForgeryDatamMdule\n",
    "from timm.models.swin_transformer import SwinTransformer\n",
    "from timm.models.layers import SelectAdaptivePool2d, ClassifierHead\n",
    "import timm\n",
    "from torch import nn\n",
    "import torch_dct as dct\n",
    "from src.lit_model import LitModel"
   ],
   "outputs": [
    {
     "name": "stderr",
     "output_type": "stream",
     "text": [
      "C:\\Users\\trung\\miniconda3\\envs\\image_forgery\\lib\\site-packages\\tqdm\\auto.py:21: TqdmWarning: IProgress not found. Please update jupyter and ipywidgets. See https://ipywidgets.readthedocs.io/en/stable/user_install.html\n",
      "  from .autonotebook import tqdm as notebook_tqdm\n"
     ]
    }
   ],
   "execution_count": 1
  },
  {
   "metadata": {
    "ExecuteTime": {
     "end_time": "2024-10-12T10:22:47.592356Z",
     "start_time": "2024-10-12T10:22:47.576609Z"
    }
   },
   "cell_type": "code",
   "source": [
    "input_data = torch.randn(4, 2)  # 4 samples, 10 classes\n",
    "labels = torch.LongTensor([0, 1, 1, 0])"
   ],
   "id": "c4b322a4dfe55cea",
   "outputs": [],
   "execution_count": 4
  },
  {
   "metadata": {
    "ExecuteTime": {
     "end_time": "2024-10-12T10:22:48.268844Z",
     "start_time": "2024-10-12T10:22:48.253183Z"
    }
   },
   "cell_type": "code",
   "source": "input_data",
   "id": "ad974b7bb9314f15",
   "outputs": [
    {
     "data": {
      "text/plain": [
       "tensor([[ 0.1127,  0.9207],\n",
       "        [ 0.8624,  0.1538],\n",
       "        [ 0.9747,  1.3497],\n",
       "        [-0.0020,  0.4546]])"
      ]
     },
     "execution_count": 5,
     "metadata": {},
     "output_type": "execute_result"
    }
   ],
   "execution_count": 5
  },
  {
   "metadata": {
    "ExecuteTime": {
     "end_time": "2024-10-12T10:23:03.854367Z",
     "start_time": "2024-10-12T10:23:03.832207Z"
    }
   },
   "cell_type": "code",
   "source": "labels",
   "id": "35105aed7c729123",
   "outputs": [
    {
     "data": {
      "text/plain": [
       "tensor([0, 1, 1, 0])"
      ]
     },
     "execution_count": 6,
     "metadata": {},
     "output_type": "execute_result"
    }
   ],
   "execution_count": 6
  },
  {
   "metadata": {
    "ExecuteTime": {
     "end_time": "2024-10-12T10:27:32.296945Z",
     "start_time": "2024-10-12T10:27:32.275113Z"
    }
   },
   "cell_type": "code",
   "source": "nn.CrossEntropyLoss(label_smoothing=0.1)(input_data, labels, )",
   "id": "76b57311b3cae263",
   "outputs": [
    {
     "data": {
      "text/plain": [
       "tensor(0.9190)"
      ]
     },
     "execution_count": 12,
     "metadata": {},
     "output_type": "execute_result"
    }
   ],
   "execution_count": 12
  },
  {
   "metadata": {
    "ExecuteTime": {
     "end_time": "2024-10-12T10:28:49.393283Z",
     "start_time": "2024-10-12T10:28:49.371219Z"
    }
   },
   "cell_type": "code",
   "source": [
    "loss = nn.functional.cross_entropy(input_data, labels)\n",
    "print(f\"Cross-entropy loss: {loss:.10f}\")"
   ],
   "id": "ab696d1bd27c99fb",
   "outputs": [
    {
     "name": "stdout",
     "output_type": "stream",
     "text": [
      "Cross-entropy loss: 0.9390072227\n"
     ]
    }
   ],
   "execution_count": 13
  },
  {
   "metadata": {
    "ExecuteTime": {
     "end_time": "2024-10-12T10:29:10.155733Z",
     "start_time": "2024-10-12T10:29:10.131474Z"
    }
   },
   "cell_type": "code",
   "source": "loss.numpy()",
   "id": "be8f30cf825e6b0f",
   "outputs": [
    {
     "data": {
      "text/plain": [
       "array(0.9390072, dtype=float32)"
      ]
     },
     "execution_count": 15,
     "metadata": {},
     "output_type": "execute_result"
    }
   ],
   "execution_count": 15
  },
  {
   "metadata": {},
   "cell_type": "code",
   "outputs": [],
   "execution_count": null,
   "source": "",
   "id": "f2c0fa434db4e06"
  },
  {
   "metadata": {
    "ExecuteTime": {
     "end_time": "2024-10-10T16:52:12.816380Z",
     "start_time": "2024-10-10T16:52:12.792113Z"
    }
   },
   "cell_type": "code",
   "source": [
    "path = \"data/CASIA1/train/real/Sp_S_NNN_T_txt0074_txt0074_0074.jpg\"\n",
    "image = Image.open(path)\n",
    "image = transforms.ToTensor()(image) * 255"
   ],
   "id": "4b495c120ff53ddc",
   "outputs": [],
   "execution_count": 42
  },
  {
   "metadata": {
    "jupyter": {
     "is_executing": true
    },
    "ExecuteTime": {
     "end_time": "2024-10-10T16:38:40.245825100Z",
     "start_time": "2024-10-10T16:38:33.242305Z"
    }
   },
   "cell_type": "code",
   "source": "",
   "id": "9d9a6d12ea878dfc",
   "outputs": [
    {
     "data": {
      "text/plain": [
       "<matplotlib.image.AxesImage at 0x1fdd7e1ccd0>"
      ]
     },
     "execution_count": 5,
     "metadata": {},
     "output_type": "execute_result"
    }
   ],
   "execution_count": null
  },
  {
   "metadata": {
    "ExecuteTime": {
     "end_time": "2024-10-10T16:52:27.666208Z",
     "start_time": "2024-10-10T16:52:27.653989Z"
    }
   },
   "cell_type": "code",
   "source": [
    "class ImageToFrequency(nn.Module):\n",
    "    def __init__(self):\n",
    "        super(ImageToFrequency, self).__init__()\n",
    "\n",
    "    def forward(self, x):\n",
    "        x = dct_2d(x, norm='ortho')\n",
    "        x = torch.fft.fftshift(x)\n",
    "        x = log_magnitude(x)\n",
    "        return x\n",
    "ImageToFrequency()(image).max()\n",
    "# "
   ],
   "id": "389b1bd8cbe987cf",
   "outputs": [
    {
     "data": {
      "text/plain": [
       "tensor(10.4958)"
      ]
     },
     "execution_count": 48,
     "metadata": {},
     "output_type": "execute_result"
    }
   ],
   "execution_count": 48
  },
  {
   "metadata": {
    "ExecuteTime": {
     "end_time": "2024-10-10T16:39:05.875661Z",
     "start_time": "2024-10-10T16:39:05.859707Z"
    }
   },
   "cell_type": "code",
   "source": [
    "def log_magnitude(f_shift):\n",
    "    return torch.log(1 + torch.abs(f_shift))"
   ],
   "id": "234003b997cdf5e",
   "outputs": [],
   "execution_count": 5
  },
  {
   "metadata": {
    "ExecuteTime": {
     "end_time": "2024-10-10T12:25:40.854658Z",
     "start_time": "2024-10-10T12:25:40.823407Z"
    }
   },
   "cell_type": "code",
   "source": [
    "import torch\n",
    "import torch.nn as nn\n",
    "\n",
    "B, W, H, D = 2, 8, 8, 768  # B: batch size, W: chiều rộng, H: chiều cao, D: số chiều đặc trưng\n",
    "C = 10  # Số lớp (classes)\n",
    "output = torch.randn(B, W, H, D)  # Đầu ra từ mô hình CNN hoặc tương tự\n",
    "\n",
    "# Áp dụng Global Average Pooling trên chiều không gian (W, H)\n",
    "pooled_output = output.mean(dim=(1, 2))  # Kích thước: (B, D)\n",
    "print(\"Pooled output:\", pooled_output.shape)\n",
    "# Chuyển thành logits (số lớp)\n",
    "linear = nn.Linear(D, C)\n",
    "logits = linear(pooled_output)  # Kích thước: (B, C)\n",
    "\n",
    "# Tính cross entropy loss\n",
    "target = torch.randint(0, C, (B,))  # Ground truth labels\n",
    "loss_fn = nn.CrossEntropyLoss()\n",
    "loss = loss_fn(logits, target)\n",
    "\n",
    "print(\"Loss:\", loss.item())\n"
   ],
   "id": "f8e7c36b793e8003",
   "outputs": [
    {
     "name": "stdout",
     "output_type": "stream",
     "text": [
      "Pooled output: torch.Size([2, 768])\n",
      "Loss: 2.2533135414123535\n"
     ]
    }
   ],
   "execution_count": 4
  },
  {
   "metadata": {
    "ExecuteTime": {
     "end_time": "2024-10-10T12:26:36.734721Z",
     "start_time": "2024-10-10T12:26:36.719099Z"
    }
   },
   "cell_type": "code",
   "source": "",
   "id": "664a18bc5a20ebdf",
   "outputs": [
    {
     "data": {
      "text/plain": [
       "tensor([[[[ 6.1461e-02,  1.7132e-01, -4.3081e-02,  ...,  1.8428e-01,\n",
       "            7.9201e-02,  7.7000e-03]],\n",
       "\n",
       "         [[-7.3590e-02,  3.6203e-02,  3.1155e-02,  ..., -1.8917e-01,\n",
       "           -6.0701e-02, -1.1432e-02]],\n",
       "\n",
       "         [[-1.5933e-01, -1.1345e-01,  1.8945e-04,  ...,  7.2752e-02,\n",
       "            1.4967e-01,  1.9428e-02]],\n",
       "\n",
       "         ...,\n",
       "\n",
       "         [[-1.1533e-01, -9.6979e-02, -2.8492e-02,  ...,  9.7934e-03,\n",
       "           -7.2704e-02,  4.2504e-02]],\n",
       "\n",
       "         [[-9.3216e-02, -1.5313e-01, -7.4550e-02,  ...,  5.9874e-02,\n",
       "           -2.6313e-02,  3.4397e-01]],\n",
       "\n",
       "         [[ 1.0297e-01,  5.2828e-02,  2.3151e-01,  ...,  2.2125e-02,\n",
       "           -1.2867e-01,  3.0936e-02]]],\n",
       "\n",
       "\n",
       "        [[[ 5.8546e-02, -1.3710e-02, -1.9255e-01,  ...,  4.8425e-02,\n",
       "           -8.8405e-02,  5.4689e-02]],\n",
       "\n",
       "         [[-1.3192e-01,  8.8368e-02, -1.4156e-01,  ..., -1.5053e-01,\n",
       "           -3.6285e-02,  1.3985e-01]],\n",
       "\n",
       "         [[ 3.4798e-02, -2.0436e-02,  2.9200e-02,  ..., -8.3135e-02,\n",
       "            6.5053e-03, -9.5515e-02]],\n",
       "\n",
       "         ...,\n",
       "\n",
       "         [[-7.1736e-02, -8.9937e-02, -8.4593e-02,  ..., -2.5837e-02,\n",
       "           -2.4385e-02, -4.2717e-02]],\n",
       "\n",
       "         [[-6.5155e-02, -2.7794e-01, -1.8503e-01,  ...,  1.0515e-01,\n",
       "           -8.9068e-02,  8.0077e-02]],\n",
       "\n",
       "         [[-6.7781e-02,  1.0529e-01, -1.4259e-01,  ...,  3.5550e-02,\n",
       "            4.3580e-02, -2.5840e-01]]]])"
      ]
     },
     "execution_count": 6,
     "metadata": {},
     "output_type": "execute_result"
    }
   ],
   "execution_count": 6
  },
  {
   "metadata": {
    "ExecuteTime": {
     "end_time": "2024-10-10T12:26:52.980414Z",
     "start_time": "2024-10-10T12:26:52.949161Z"
    }
   },
   "cell_type": "code",
   "source": "pooled_output",
   "id": "5744f99c6d070200",
   "outputs": [
    {
     "data": {
      "text/plain": [
       "tensor([[-0.1690, -0.0028, -0.0676,  ..., -0.0259,  0.0784,  0.0794],\n",
       "        [-0.1619,  0.1977, -0.1895,  ..., -0.0112, -0.2003,  0.0325]])"
      ]
     },
     "execution_count": 7,
     "metadata": {},
     "output_type": "execute_result"
    }
   ],
   "execution_count": 7
  },
  {
   "metadata": {},
   "cell_type": "markdown",
   "source": "",
   "id": "25468e876865fac2"
  },
  {
   "metadata": {
    "ExecuteTime": {
     "end_time": "2024-10-10T10:27:01.530492200Z",
     "start_time": "2024-10-10T07:15:19.087019Z"
    }
   },
   "cell_type": "code",
   "source": [
    "x1 = torch.rand(1, 14, 14, 224)\n",
    "x2 = torch.rand(1, 14, 14, 512)"
   ],
   "id": "308d3d70bd1556a4",
   "outputs": [],
   "execution_count": 8
  },
  {
   "metadata": {
    "ExecuteTime": {
     "end_time": "2024-10-10T17:19:30.944158Z",
     "start_time": "2024-10-10T17:19:30.930293Z"
    }
   },
   "cell_type": "code",
   "source": [
    "l = nn.GRU(input_size=256, hidden_size=100, batch_first=True, num_layers=2)\n",
    "input = torch. randn(5, 3, 256)\n",
    "nn.GELU()(l(input)[0])"
   ],
   "id": "63d35b52a43ce873",
   "outputs": [
    {
     "data": {
      "text/plain": [
       "tensor([[[-0.0363,  0.0241,  0.0059,  ...,  0.0687, -0.0117,  0.0660],\n",
       "         [-0.1056, -0.0081, -0.0787,  ...,  0.0998,  0.0194,  0.1445],\n",
       "         [-0.1033,  0.0302, -0.0575,  ...,  0.0601,  0.0111,  0.1687]],\n",
       "\n",
       "        [[ 0.0114,  0.0032, -0.1158,  ..., -0.0686,  0.0754,  0.0413],\n",
       "         [ 0.0270,  0.0028, -0.1199,  ..., -0.1069,  0.0670,  0.0743],\n",
       "         [-0.0217,  0.0770, -0.1168,  ..., -0.1064,  0.0829,  0.1126]],\n",
       "\n",
       "        [[ 0.0549,  0.0052,  0.0815,  ...,  0.0020,  0.1206,  0.0086],\n",
       "         [-0.0186,  0.0161,  0.1534,  ...,  0.0449,  0.1116, -0.0173],\n",
       "         [-0.0615,  0.0667,  0.1305,  ...,  0.0050,  0.0393, -0.0349]],\n",
       "\n",
       "        [[-0.0019, -0.0615, -0.0746,  ..., -0.0359, -0.0623, -0.0179],\n",
       "         [ 0.0540, -0.0789, -0.1040,  ..., -0.0598, -0.0395, -0.0240],\n",
       "         [ 0.0058, -0.0639, -0.1122,  ..., -0.0994,  0.0241, -0.0298]],\n",
       "\n",
       "        [[ 0.1564,  0.0013, -0.0053,  ...,  0.0812,  0.0022, -0.0691],\n",
       "         [ 0.1369, -0.0635,  0.0410,  ...,  0.0602,  0.0076, -0.0639],\n",
       "         [ 0.1754, -0.0924, -0.0418,  ..., -0.0442,  0.0953, -0.0033]]],\n",
       "       grad_fn=<GeluBackward0>)"
      ]
     },
     "execution_count": 70,
     "metadata": {},
     "output_type": "execute_result"
    }
   ],
   "execution_count": 70
  },
  {
   "metadata": {
    "ExecuteTime": {
     "end_time": "2024-10-10T10:27:01.530492200Z",
     "start_time": "2024-10-10T07:15:19.710140Z"
    }
   },
   "cell_type": "code",
   "source": "ClassifierHead(in_features=14, num_classes=2)(att(x1, x2))",
   "id": "b5dbbe5e2b5de8cd",
   "outputs": [
    {
     "data": {
      "text/plain": [
       "tensor([[-0.1777,  0.0030]], grad_fn=<AddmmBackward0>)"
      ]
     },
     "execution_count": 10,
     "metadata": {},
     "output_type": "execute_result"
    }
   ],
   "execution_count": 10
  },
  {
   "metadata": {
    "ExecuteTime": {
     "end_time": "2024-10-10T10:27:01.530492200Z",
     "start_time": "2024-10-10T07:15:22.352134Z"
    }
   },
   "cell_type": "code",
   "source": [
    "tem = torch.rand(1, 2, 10)\n",
    "torch.nn.Softmax(dim=1)(tem)"
   ],
   "id": "10ebb48943eb454b",
   "outputs": [
    {
     "data": {
      "text/plain": [
       "tensor([[[0.5063, 0.4341, 0.5391, 0.3359, 0.4139, 0.5473, 0.4205, 0.4878,\n",
       "          0.5356, 0.4875],\n",
       "         [0.4937, 0.5659, 0.4609, 0.6641, 0.5861, 0.4527, 0.5795, 0.5122,\n",
       "          0.4644, 0.5125]]])"
      ]
     },
     "execution_count": 11,
     "metadata": {},
     "output_type": "execute_result"
    }
   ],
   "execution_count": 11
  },
  {
   "metadata": {
    "ExecuteTime": {
     "end_time": "2024-10-10T10:27:01.530492200Z",
     "start_time": "2024-10-10T09:59:25.234262Z"
    }
   },
   "cell_type": "code",
   "source": [
    "class CNN(nn.Module):\n",
    "    def __init__(self, input_channels):\n",
    "        super(CNN, self).__init__()\n",
    "        self.module = nn.Sequential(\n",
    "            nn.Conv2d(input_channels, 32, kernel_size=3, stride=1, padding=1),\n",
    "            nn.BatchNorm2d(32),\n",
    "            nn.GELU(),\n",
    "            nn.AvgPool2d(kernel_size=2, stride=1, padding=1),\n",
    "\n",
    "            nn.Conv2d(32, 64, kernel_size=3, stride=1, padding=1),\n",
    "            nn.BatchNorm2d(64),\n",
    "            nn.GELU(),\n",
    "            nn.AvgPool2d(kernel_size=2, stride=2, padding=1),\n",
    "\n",
    "            nn.Conv2d(64, 128, kernel_size=3, stride=1, padding=1),\n",
    "            nn.BatchNorm2d(128),\n",
    "            nn.GELU(),\n",
    "            nn.AvgPool2d(kernel_size=2, stride=1),\n",
    "\n",
    "            nn.Conv2d(128, 256, kernel_size=3, stride=1, padding=1),\n",
    "            nn.BatchNorm2d(256),\n",
    "            nn.GELU(),\n",
    "\n",
    "            nn.Conv2d(256, 512, kernel_size=3, stride=1, padding=1),\n",
    "            nn.BatchNorm2d(512),\n",
    "            nn.GELU(),\n",
    "        )\n",
    "\n",
    "    def forward(self, x):\n",
    "        return self.module(x)\n",
    "\n",
    "\n",
    "CNN(3)(image).shape"
   ],
   "id": "2ca855730e86a713",
   "outputs": [
    {
     "data": {
      "text/plain": [
       "torch.Size([3, 512, 112, 112])"
      ]
     },
     "execution_count": 53,
     "metadata": {},
     "output_type": "execute_result"
    }
   ],
   "execution_count": 53
  },
  {
   "metadata": {
    "ExecuteTime": {
     "end_time": "2024-10-10T10:27:01.530492200Z",
     "start_time": "2024-10-10T07:26:00.112386Z"
    }
   },
   "cell_type": "code",
   "source": "",
   "id": "2d89fc2c24f67eae",
   "outputs": [
    {
     "data": {
      "text/plain": [
       "torch.Size([3, 512, 109, 109])"
      ]
     },
     "execution_count": 17,
     "metadata": {},
     "output_type": "execute_result"
    }
   ],
   "execution_count": 17
  }
 ],
 "metadata": {
  "kernelspec": {
   "display_name": "Python 3",
   "language": "python",
   "name": "python3"
  },
  "language_info": {
   "codemirror_mode": {
    "name": "ipython",
    "version": 2
   },
   "file_extension": ".py",
   "mimetype": "text/x-python",
   "name": "python",
   "nbconvert_exporter": "python",
   "pygments_lexer": "ipython2",
   "version": "2.7.6"
  }
 },
 "nbformat": 4,
 "nbformat_minor": 5
}
