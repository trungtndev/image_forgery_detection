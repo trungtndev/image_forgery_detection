{
 "cells": [
  {
   "cell_type": "code",
   "id": "initial_id",
   "metadata": {
    "collapsed": true,
    "ExecuteTime": {
     "end_time": "2024-10-18T08:39:09.563231Z",
     "start_time": "2024-10-18T08:39:08.753360Z"
    }
   },
   "source": [
    "import torch\n",
    "import torch.nn as nn\n",
    "import torch.nn.functional as F\n",
    "from torch_dct import dct_2d\n",
    "from PIL import Image\n",
    "import torchvision.transforms as transforms"
   ],
   "outputs": [],
   "execution_count": 18
  },
  {
   "metadata": {
    "ExecuteTime": {
     "end_time": "2024-10-18T08:43:43.827548Z",
     "start_time": "2024-10-18T08:43:43.813975Z"
    }
   },
   "cell_type": "code",
   "source": [
    "def log_magnitude(f_shift):\n",
    "    return torch.log(1 + torch.abs(f_shift))\n",
    "\n",
    "\n",
    "class ImageToFrequency(nn.Module):\n",
    "    def __init__(self):\n",
    "        super(ImageToFrequency, self).__init__()\n",
    "        self.dct = dct_2d\n",
    "\n",
    "    def forward(self, x):\n",
    "        x = dct_2d(x, norm='ortho')\n",
    "        x = torch.fft.fftshift(x)\n",
    "        # x = log_magnitude(x)\n",
    "        return x"
   ],
   "id": "c4b322a4dfe55cea",
   "outputs": [],
   "execution_count": 54
  },
  {
   "metadata": {
    "ExecuteTime": {
     "end_time": "2024-10-18T08:43:45.746697Z",
     "start_time": "2024-10-18T08:43:45.733636Z"
    }
   },
   "cell_type": "code",
   "source": [
    "image = Image.open(r'D:\\image_forgery_detection\\data\\CASIA1\\train\\fake\\Sp_S_NNN_T_txt0068_txt0068_0068.jpg')\n",
    "image = transforms.ToTensor()(image)\n",
    "image_2 = image * 255.0"
   ],
   "id": "7dd31f0800789b10",
   "outputs": [],
   "execution_count": 55
  },
  {
   "metadata": {
    "ExecuteTime": {
     "end_time": "2024-10-18T08:43:51.766794Z",
     "start_time": "2024-10-18T08:43:51.743276Z"
    }
   },
   "cell_type": "code",
   "source": "ImageToFrequency()(image).max()",
   "id": "a68bfbfcfadea5b9",
   "outputs": [
    {
     "data": {
      "text/plain": [
       "tensor(130.2128)"
      ]
     },
     "execution_count": 57,
     "metadata": {},
     "output_type": "execute_result"
    }
   ],
   "execution_count": 57
  }
 ],
 "metadata": {
  "kernelspec": {
   "display_name": "Python 3",
   "language": "python",
   "name": "python3"
  },
  "language_info": {
   "codemirror_mode": {
    "name": "ipython",
    "version": 2
   },
   "file_extension": ".py",
   "mimetype": "text/x-python",
   "name": "python",
   "nbconvert_exporter": "python",
   "pygments_lexer": "ipython2",
   "version": "2.7.6"
  }
 },
 "nbformat": 4,
 "nbformat_minor": 5
}
