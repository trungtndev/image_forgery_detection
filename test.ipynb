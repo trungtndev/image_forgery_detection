{
 "cells": [
  {
   "cell_type": "code",
   "id": "initial_id",
   "metadata": {
    "collapsed": true,
    "ExecuteTime": {
     "end_time": "2024-10-18T08:39:09.563231Z",
     "start_time": "2024-10-18T08:39:08.753360Z"
    }
   },
   "source": [
    "import torch\n",
    "import torch.nn as nn\n",
    "import torch.nn.functional as F\n",
    "from torch_dct import dct_2d\n",
    "from PIL import Image\n",
    "import torchvision.transforms as transforms"
   ],
   "outputs": [],
   "execution_count": 18
  },
  {
   "metadata": {
    "ExecuteTime": {
     "end_time": "2024-10-18T08:56:15.306420Z",
     "start_time": "2024-10-18T08:56:15.292400Z"
    }
   },
   "cell_type": "code",
   "source": [
    "def log_magnitude(f_shift):\n",
    "    return torch.log(1 + torch.abs(f_shift))\n",
    "\n",
    "class ImageToFrequency(nn.Module):\n",
    "    def __init__(self):\n",
    "        super(ImageToFrequency, self).__init__()\n",
    "\n",
    "    def forward(self, x):\n",
    "        x = dct_2d(x, norm='')\n",
    "        x = torch.fft.fftshift(x)\n",
    "        x = log_magnitude(x)\n",
    "        return x"
   ],
   "id": "c4b322a4dfe55cea",
   "outputs": [],
   "execution_count": 96
  },
  {
   "metadata": {
    "ExecuteTime": {
     "end_time": "2024-10-18T08:56:26.522059Z",
     "start_time": "2024-10-18T08:56:26.503131Z"
    }
   },
   "cell_type": "code",
   "source": [
    "image = Image.open(r'D:\\image_forgery_detection\\data\\CASIA1\\train\\fake\\Sp_S_NNN_T_txt0068_txt0068_0068.jpg')\n",
    "image = transforms.ToTensor()(image)\n",
    "image_2 = image * 255.0"
   ],
   "id": "7dd31f0800789b10",
   "outputs": [],
   "execution_count": 100
  },
  {
   "metadata": {
    "ExecuteTime": {
     "end_time": "2024-10-18T08:56:31.820862Z",
     "start_time": "2024-10-18T08:56:31.795210Z"
    }
   },
   "cell_type": "code",
   "source": "ImageToFrequency()(image_2)",
   "id": "a68bfbfcfadea5b9",
   "outputs": [
    {
     "data": {
      "text/plain": [
       "tensor([[[ 8.3445,  9.2234,  7.6373,  ...,  8.5708,  9.4317,  9.4395],\n",
       "         [ 6.7476,  6.5583,  6.1289,  ...,  8.7536,  8.9864,  9.3621],\n",
       "         [ 8.4508,  9.0261,  6.8681,  ...,  9.0606,  8.0617, 10.0419],\n",
       "         ...,\n",
       "         [ 8.1031,  7.8811,  8.8791,  ...,  8.5751,  6.5935,  6.7509],\n",
       "         [ 8.2242,  7.7807,  7.2432,  ...,  8.1536,  7.7813,  8.1635],\n",
       "         [ 8.5170,  9.0743,  8.6491,  ...,  8.5525,  8.6956,  8.6777]],\n",
       "\n",
       "        [[ 8.8073,  9.3103,  8.0794,  ...,  8.5720,  9.5204,  9.3315],\n",
       "         [ 7.5635,  7.0755,  6.1201,  ...,  8.8293,  9.0669,  9.3933],\n",
       "         [ 8.4881,  8.9811,  7.4067,  ...,  9.0596,  8.2588, 10.0808],\n",
       "         ...,\n",
       "         [ 8.2983,  7.6985,  8.8795,  ...,  8.8062,  6.1639,  7.2744],\n",
       "         [ 8.3018,  7.8339,  6.6636,  ...,  7.9058,  7.6435,  8.3491],\n",
       "         [ 8.6913,  9.0191,  8.6555,  ...,  8.5464,  8.7435,  8.7352]],\n",
       "\n",
       "        [[ 8.8298,  9.3237,  8.0641,  ...,  8.5525,  9.5164,  9.3215],\n",
       "         [ 7.5378,  6.9955,  6.5730,  ...,  8.8377,  9.0642,  9.3953],\n",
       "         [ 8.4626,  9.0015,  7.2758,  ...,  9.0694,  8.1737, 10.0775],\n",
       "         ...,\n",
       "         [ 8.3112,  7.7068,  8.8242,  ...,  8.8241,  6.3754,  7.3793],\n",
       "         [ 8.2631,  7.8237,  6.2708,  ...,  7.9153,  7.4652,  8.2805],\n",
       "         [ 8.6976,  9.0115,  8.6775,  ...,  8.5344,  8.7558,  8.7358]]])"
      ]
     },
     "execution_count": 102,
     "metadata": {},
     "output_type": "execute_result"
    }
   ],
   "execution_count": 102
  }
 ],
 "metadata": {
  "kernelspec": {
   "display_name": "Python 3",
   "language": "python",
   "name": "python3"
  },
  "language_info": {
   "codemirror_mode": {
    "name": "ipython",
    "version": 2
   },
   "file_extension": ".py",
   "mimetype": "text/x-python",
   "name": "python",
   "nbconvert_exporter": "python",
   "pygments_lexer": "ipython2",
   "version": "2.7.6"
  }
 },
 "nbformat": 4,
 "nbformat_minor": 5
}
