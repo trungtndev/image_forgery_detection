{
 "cells": [
  {
   "cell_type": "code",
   "id": "initial_id",
   "metadata": {
    "collapsed": true,
    "ExecuteTime": {
     "end_time": "2024-10-18T17:19:44.459948Z",
     "start_time": "2024-10-18T17:19:40.762679Z"
    }
   },
   "source": [
    "import torch\n",
    "import torch.nn as nn\n",
    "import torch.nn.functional as F\n",
    "from torch_dct import dct_2d\n",
    "from PIL import Image\n",
    "import torchvision.transforms as transforms\n",
    "import timm"
   ],
   "outputs": [
    {
     "name": "stderr",
     "output_type": "stream",
     "text": [
      "C:\\Users\\trung\\miniconda3\\envs\\image_forgery\\lib\\site-packages\\tqdm\\auto.py:21: TqdmWarning: IProgress not found. Please update jupyter and ipywidgets. See https://ipywidgets.readthedocs.io/en/stable/user_install.html\n",
      "  from .autonotebook import tqdm as notebook_tqdm\n"
     ]
    }
   ],
   "execution_count": 1
  },
  {
   "metadata": {
    "ExecuteTime": {
     "end_time": "2024-10-18T17:32:17.481963Z",
     "start_time": "2024-10-18T17:32:17.462724Z"
    }
   },
   "cell_type": "code",
   "source": [
    "def log_magnitude(f_shift):\n",
    "    return torch.log(1 + torch.abs(f_shift))\n",
    "\n",
    "class ImageToFrequency(nn.Module):\n",
    "    def __init__(self):\n",
    "        super(ImageToFrequency, self).__init__()\n",
    "\n",
    "    def forward(self, x):\n",
    "        x = torch.fft.rfft2(x, dim=(-2, -1))\n",
    "        x = torch.fft.fftshift(x)\n",
    "        x = log_magnitude(x)\n",
    "        return x"
   ],
   "id": "c4b322a4dfe55cea",
   "outputs": [],
   "execution_count": 29
  },
  {
   "metadata": {
    "ExecuteTime": {
     "end_time": "2024-10-18T17:32:48.734181Z",
     "start_time": "2024-10-18T17:32:48.722719Z"
    }
   },
   "cell_type": "code",
   "source": [
    "image = Image.open(r'D:\\image_forgery_detection\\data\\CASIA1\\train\\fake\\Sp_S_NNN_T_txt0068_txt0068_0068.jpg')\n",
    "image = transforms.ToTensor()(image)\n",
    "image_2 = image * 255.0"
   ],
   "id": "7dd31f0800789b10",
   "outputs": [],
   "execution_count": 33
  },
  {
   "metadata": {
    "ExecuteTime": {
     "end_time": "2024-10-18T17:33:03.008068Z",
     "start_time": "2024-10-18T17:33:02.993042Z"
    }
   },
   "cell_type": "code",
   "source": "ImageToFrequency()(image_2).max   ()\n",
   "id": "68499ca10a04e569",
   "outputs": [
    {
     "data": {
      "text/plain": [
       "tensor(16.1583)"
      ]
     },
     "execution_count": 36,
     "metadata": {},
     "output_type": "execute_result"
    }
   ],
   "execution_count": 36
  },
  {
   "metadata": {},
   "cell_type": "markdown",
   "source": "",
   "id": "4b695c2d42ef4346"
  },
  {
   "metadata": {
    "ExecuteTime": {
     "end_time": "2024-10-18T17:26:23.667597Z",
     "start_time": "2024-10-18T17:26:23.641266Z"
    }
   },
   "cell_type": "code",
   "source": [
    "t = torch.rand(10, 10)\n",
    "rfft2 = torch.fft.rfft2(t)\n",
    "rfft2.size()\n",
    "fft2 = torch.fft.fft2(t)\n",
    "torch.testing.assert_close(fft2[..., :6], rfft2, check_stride=False)"
   ],
   "id": "a68bfbfcfadea5b9",
   "outputs": [],
   "execution_count": 16
  },
  {
   "metadata": {
    "ExecuteTime": {
     "end_time": "2024-10-18T17:07:56.915031Z",
     "start_time": "2024-10-18T17:07:49.469538Z"
    }
   },
   "cell_type": "code",
   "source": "from src.lit_model import LitModel",
   "id": "4951b9941fbc8556",
   "outputs": [
    {
     "name": "stderr",
     "output_type": "stream",
     "text": [
      "C:\\Users\\trung\\miniconda3\\envs\\image_forgery\\lib\\site-packages\\tqdm\\auto.py:21: TqdmWarning: IProgress not found. Please update jupyter and ipywidgets. See https://ipywidgets.readthedocs.io/en/stable/user_install.html\n",
      "  from .autonotebook import tqdm as notebook_tqdm\n"
     ]
    }
   ],
   "execution_count": 1
  },
  {
   "metadata": {
    "ExecuteTime": {
     "end_time": "2024-10-18T17:08:01.814195Z",
     "start_time": "2024-10-18T17:08:01.026949Z"
    }
   },
   "cell_type": "code",
   "source": "LitModel()",
   "id": "8d07478c9ba33ba4",
   "outputs": [
    {
     "ename": "TypeError",
     "evalue": "LitModel.__init__() missing 12 required positional arguments: 'num_classes', 'd_model', 'requires_grad', 'drop_rate', 'proj_drop_rate', 'attn_drop_rate', 'drop_path_rate', 'growth_rate', 'num_layers', 'learning_rate', 'weight_decay', and 'patience'",
     "output_type": "error",
     "traceback": [
      "\u001B[1;31m---------------------------------------------------------------------------\u001B[0m",
      "\u001B[1;31mTypeError\u001B[0m                                 Traceback (most recent call last)",
      "Cell \u001B[1;32mIn[4], line 1\u001B[0m\n\u001B[1;32m----> 1\u001B[0m \u001B[43mLitModel\u001B[49m\u001B[43m(\u001B[49m\u001B[43m)\u001B[49m\n",
      "\u001B[1;31mTypeError\u001B[0m: LitModel.__init__() missing 12 required positional arguments: 'num_classes', 'd_model', 'requires_grad', 'drop_rate', 'proj_drop_rate', 'attn_drop_rate', 'drop_path_rate', 'growth_rate', 'num_layers', 'learning_rate', 'weight_decay', and 'patience'"
     ]
    }
   ],
   "execution_count": 4
  }
 ],
 "metadata": {
  "kernelspec": {
   "display_name": "Python 3",
   "language": "python",
   "name": "python3"
  },
  "language_info": {
   "codemirror_mode": {
    "name": "ipython",
    "version": 2
   },
   "file_extension": ".py",
   "mimetype": "text/x-python",
   "name": "python",
   "nbconvert_exporter": "python",
   "pygments_lexer": "ipython2",
   "version": "2.7.6"
  }
 },
 "nbformat": 4,
 "nbformat_minor": 5
}
